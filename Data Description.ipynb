{
    "cells": [
        {
            "cell_type": "markdown",
            "metadata": {},
            "source": "### The Battle of Neighbourhoods | Gregory Okechukwu Offodum"
        },
        {
            "cell_type": "markdown",
            "metadata": {},
            "source": "__Data Description__"
        },
        {
            "cell_type": "markdown",
            "metadata": {},
            "source": "The project utilizes dataset which we scrapped from wikipedia, with a  total of 67 neighborhoods, comprising of latitude and longitude, zip codes.\n\nLink to the Data to be used: https://en.wikipedia.org/wiki/Category:Suburbs_of_Chennai\n"
        },
        {
            "cell_type": "markdown",
            "metadata": {},
            "source": "__Foursquare API Data__"
        },
        {
            "cell_type": "markdown",
            "metadata": {
                "collapsed": true
            },
            "source": "   \nFoursquare API was utilized as the data source. Possessing a database of millions of location, the API is undoubtedly a top-notch source for this kind of project. Using credentials of Foursquare API features of near-by places of the neighborhoods would be mined. Due to http request limitations the number of places per neighborhood parameter would reasonably be set to 100 and the radius parameter would be set to 500.\n\nThe data retrieved from Foursquare contained information of venues within a specified distance of the longitude and latitude of the postcodes. The information obtained per venue as follows:\n\nNeighbourhood : Name of the Neighbourhood\n\nNeighbourhood Latitude : Latitude of the Neighbourhood\n\nNeighbourhood Longitude : Longitude of the Neighbourhood\n\nVenue : Name of the Venue\n\nVenue Latitude : Latitude of Venue\n\nVenue Longitude : Longitude of Venue\n\nVenue Category : Category of Venue"
        },
        {
            "cell_type": "markdown",
            "metadata": {},
            "source": "__Clustering Approach__"
        },
        {
            "cell_type": "markdown",
            "metadata": {},
            "source": "K-means clustering algorithm was used for segmentation and unsupervised machine learning/clustering of neighborhoods. "
        },
        {
            "cell_type": "markdown",
            "metadata": {},
            "source": "__Libraries__"
        },
        {
            "cell_type": "markdown",
            "metadata": {},
            "source": "Th folowing libraries were used in the project:\n\nPandas: For creating and manipulating dataframes.\n\nScikit Learn: For importing k-means clustering.\n\nMatplotlib: Python Plotting Module.\n\nJSON: Library to handle JSON files.\n\nXML: To separate data from presentation and XML stores data in plain text format.\n\nFolium: Python visualization library would be used to visualize the neighborhoods cluster distribution of using interactive leaflet map.\n\nGeocoder: To retrieve Location Data.\n\n"
        },
        {
            "cell_type": "code",
            "execution_count": null,
            "metadata": {},
            "outputs": [],
            "source": ""
        }
    ],
    "metadata": {
        "kernelspec": {
            "display_name": "Python 3.7",
            "language": "python",
            "name": "python3"
        },
        "language_info": {
            "codemirror_mode": {
                "name": "ipython",
                "version": 3
            },
            "file_extension": ".py",
            "mimetype": "text/x-python",
            "name": "python",
            "nbconvert_exporter": "python",
            "pygments_lexer": "ipython3",
            "version": "3.7.9"
        }
    },
    "nbformat": 4,
    "nbformat_minor": 1
}