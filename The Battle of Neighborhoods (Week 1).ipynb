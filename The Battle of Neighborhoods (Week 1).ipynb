{
    "cells": [
        {
            "cell_type": "markdown",
            "metadata": {
                "collapsed": true
            },
            "source": "### Battle of Neighbourhoods | Gregory Okechukwu Offodum"
        },
        {
            "cell_type": "markdown",
            "metadata": {},
            "source": "__Business Proposal__"
        },
        {
            "cell_type": "markdown",
            "metadata": {},
            "source": "__Introduction__\n"
        },
        {
            "cell_type": "markdown",
            "metadata": {},
            "source": "Have you ever wondered about how to take the best decision in siting a business venture? - on a daily basis, entrepreneurs have to analyse before making this decision. This project investigates and studies the tourism industry; the cosiderations to take when going into the hotel business so as to maximize profit and satisfy customers. The case study deals with Chennai area, India."
        },
        {
            "cell_type": "markdown",
            "metadata": {},
            "source": "__Problem Statement__"
        },
        {
            "cell_type": "markdown",
            "metadata": {},
            "source": "As an entrepreneur if you could choose where to open a new hotel, where would it be?\n\nThis project aims to analyse and infer the best suited location to open a new hotel in Chennai, India.\n"
        },
        {
            "cell_type": "markdown",
            "metadata": {},
            "source": "__Location Explored__"
        },
        {
            "cell_type": "markdown",
            "metadata": {},
            "source": "Chennai is a very diverse capital. it is one of the largest cultural, economic and educational centres in India."
        },
        {
            "cell_type": "markdown",
            "metadata": {},
            "source": "__API__"
        },
        {
            "cell_type": "markdown",
            "metadata": {},
            "source": "Foursquare API was utilized as the data source. Possessing a database of millions of location, the API is undoubtedly a top-notch source for this kind of project. Using credentials of Foursquare API features of near-by places of the neighborhoods would be mined. Due to http request limitations the number of places per neighborhood parameter would reasonably be set to 100 and the radius parameter would be set to 500.\n\nThe data retrieved from Foursquare contained information of venues within a specified distance of the longitude and latitude of the postcodes. The information obtained per venue as follows:\n\nNeighbourhood : Name of the Neighbourhood\n\nNeighbourhood Latitude : Latitude of the Neighbourhood\n\nNeighbourhood Longitude : Longitude of the Neighbourhood\n\nVenue : Name of the Venue\n\nVenue Latitude : Latitude of Venue\n\nVenue Longitude : Longitude of Venue\n\nVenue Category : Category of Venue"
        }
    ],
    "metadata": {
        "kernelspec": {
            "display_name": "Python 3.7",
            "language": "python",
            "name": "python3"
        },
        "language_info": {
            "codemirror_mode": {
                "name": "ipython",
                "version": 3
            },
            "file_extension": ".py",
            "mimetype": "text/x-python",
            "name": "python",
            "nbconvert_exporter": "python",
            "pygments_lexer": "ipython3",
            "version": "3.7.9"
        }
    },
    "nbformat": 4,
    "nbformat_minor": 1
}